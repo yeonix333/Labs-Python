{
 "cells": [
  {
   "cell_type": "code",
   "execution_count": 17,
   "id": "aa677b1a-a719-41af-8c1b-9bb9319aa7e1",
   "metadata": {},
   "outputs": [
    {
     "name": "stdout",
     "output_type": "stream",
     "text": [
      "Обработанное изображение сохранено по пути: C:\\Users\\yaros\\Desktop\\Labs Python\\Lab5\\ron_wesley_with_glasses.jpg\n"
     ]
    }
   ],
   "source": [
    "import cv2\n",
    "from PIL import Image, ImageDraw\n",
    "import numpy as np\n",
    "\n",
    "image_path = r\"C:\\Users\\yaros\\Desktop\\Labs Python\\Lab5\\ron_wesley.jpg\"  \n",
    "output_image_path = r\"C:\\Users\\yaros\\Desktop\\Labs Python\\Lab5\\ron_wesley_with_glasses.jpg\"\n",
    "image_size = (500, 500) \n",
    "glasses_color = \"yellow\" \n",
    "line_width = 6  \n",
    "\n",
    "def add_glasses(image_path, output_path, image_size, glasses_color, line_width):\n",
    "    img = cv2.imread(image_path)\n",
    "    if img is None:\n",
    "        print(\"Изображение не найдено по указанному пути.\")\n",
    "        return\n",
    "    gray = cv2.cvtColor(img, cv2.COLOR_BGR2GRAY)\n",
    "    \n",
    "    face_cascade = cv2.CascadeClassifier(cv2.data.haarcascades + 'haarcascade_frontalface_default.xml')\n",
    "    eye_cascade = cv2.CascadeClassifier(cv2.data.haarcascades + 'haarcascade_eye.xml')\n",
    "    \n",
    "    faces = face_cascade.detectMultiScale(gray, scaleFactor=1.1, minNeighbors=5, minSize=(30, 30))\n",
    "    if len(faces) == 0:\n",
    "        print(\"Лицо не найдено на изображении.\")\n",
    "        return\n",
    "\n",
    "    for (x, y, w, h) in faces:\n",
    "        face_center_x, face_center_y = x + w // 2, y + h // 2\n",
    "\n",
    "        face_region = gray[y:y+h, x:x+w]\n",
    "        eyes = eye_cascade.detectMultiScale(face_region)\n",
    "        \n",
    "        if len(eyes) < 2:\n",
    "            print(\"Глаза не найдены на изображении.\")\n",
    "            return\n",
    "\n",
    "        eyes = sorted(eyes, key=lambda ex: ex[0])\n",
    "        eye_left, eye_right = eyes[:2]\n",
    "\n",
    "        pil_img = Image.fromarray(cv2.cvtColor(img, cv2.COLOR_BGR2RGB))\n",
    "        draw = ImageDraw.Draw(pil_img)\n",
    "\n",
    "        for (ex, ey, ew, eh) in [eye_left, eye_right]:\n",
    "            eye_center_x, eye_center_y = x + ex + ew // 2, y + ey + eh // 2\n",
    "            radius = max(ew, eh) // 2\n",
    "            draw.ellipse(\n",
    "                (eye_center_x - radius, eye_center_y - radius, eye_center_x + radius, eye_center_y + radius),\n",
    "                outline=glasses_color, width=line_width\n",
    "            )\n",
    "        \n",
    "        \n",
    "        left_eye_center = (x + eye_left[0] + eye_left[2] // 2, y + eye_left[1] + eye_left[3] // 2)\n",
    "        right_eye_center = (x + eye_right[0] + eye_right[2] // 2, y + eye_right[1] + eye_right[3] // 2)\n",
    "        \n",
    "        offset = int(eye_left[2] * 0.3)  \n",
    "\n",
    "        left_bridge_point = (left_eye_center[0] + offset, left_eye_center[1])\n",
    "        right_bridge_point = (right_eye_center[0] - offset, right_eye_center[1])\n",
    "        \n",
    "        draw.line([left_bridge_point, right_bridge_point], fill=glasses_color, width=line_width)\n",
    "\n",
    "        pil_img = pil_img.resize(image_size)\n",
    "        pil_img.save(output_path)\n",
    "        print(f\"Обработанное изображение сохранено по пути: {output_path}\")\n",
    "\n",
    "add_glasses(image_path, output_image_path, image_size, glasses_color, line_width)\n"
   ]
  },
  {
   "cell_type": "code",
   "execution_count": null,
   "id": "fe596e46-9ea4-4c06-93f5-330bd65c8109",
   "metadata": {},
   "outputs": [],
   "source": []
  }
 ],
 "metadata": {
  "kernelspec": {
   "display_name": "Python 3 (ipykernel)",
   "language": "python",
   "name": "python3"
  },
  "language_info": {
   "codemirror_mode": {
    "name": "ipython",
    "version": 3
   },
   "file_extension": ".py",
   "mimetype": "text/x-python",
   "name": "python",
   "nbconvert_exporter": "python",
   "pygments_lexer": "ipython3",
   "version": "3.12.7"
  }
 },
 "nbformat": 4,
 "nbformat_minor": 5
}
