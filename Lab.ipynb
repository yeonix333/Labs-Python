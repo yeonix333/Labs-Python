{
 "cells": [
  {
   "cell_type": "code",
   "execution_count": 14,
   "id": "0e7f7a2d-3592-4cdd-b677-80d0b77a5791",
   "metadata": {},
   "outputs": [
    {
     "name": "stdout",
     "output_type": "stream",
     "text": [
      "Варіант: 10\n"
     ]
    }
   ],
   "source": [
    "N = ord(\"Y\") % 10 + 1  # Y for Yaroslav\n",
    "print(\"Варіант:\", N)"
   ]
  },
  {
   "cell_type": "markdown",
   "id": "ad024c70-04ed-4fe4-a5f3-6e4158912326",
   "metadata": {},
   "source": [
    "# Norway: Key Information and Highlights\n",
    "\n",
    "<h2 style=\"color: navy;\">Geography and Population</h2>\n",
    "\n",
    "Area: 385,207 km²  \n",
    "Population: ~5.4 million\n",
    "\n",
    "<h3 style=\"color: darkgreen;\">Government</h3>\n",
    "\n",
    "Norway is a constitutional monarchy with a parliamentary system.\n",
    "\n",
    "<h3 style=\"color: maroon;\">Cultural Highlights and Notable Figures</h3>\n",
    "\n",
    "- Cultural Heritage: Rich Viking history, scenic fjords.\n",
    "- Notable Figures:\n",
    "    - *Edvard Munch*: painter, known for *The Scream*\n",
    "    - *Henrik Ibsen*: famous playwright\n",
    "\n",
    "### Tourist Attractions\n",
    "1. Oslo - the capital, known for its museums and green spaces.\n",
    "2. Bergen - gateway to fjords with historic wooden houses.\n",
    "3. Geirangerfjord - UNESCO World Heritage site.\n",
    "\n",
    "### Nature and Environment\n",
    "- Norway is home to dramatic landscapes, including:\n",
    "    - The Northern Lights\n",
    "    - Majestic waterfalls\n",
    "    - Extensive glaciers\n",
    "\n",
    "### National Flag"
   ]
  },
  {
   "cell_type": "code",
   "execution_count": 25,
   "id": "85368dc7-c60d-467e-8409-ecf087ed99a0",
   "metadata": {},
   "outputs": [
    {
     "data": {
      "text/html": [
       "\n",
       "<svg width=\"110\" height=\"80\" xmlns=\"http://www.w3.org/2000/svg\">\n",
       "    <rect width=\"110\" height=\"80\" fill=\"#BA0C2F\"/>\n",
       "    <rect x=\"30\" width=\"10\" height=\"80\" fill=\"#ffffff\"/>\n",
       "    <rect y=\"35\" width=\"110\" height=\"10\" fill=\"#ffffff\"/>\n",
       "    <rect x=\"34\" width=\"6\" height=\"80\" fill=\"#00205B\"/>\n",
       "    <rect y=\"37\" width=\"110\" height=\"6\" fill=\"#00205B\"/>\n",
       "</svg>\n"
      ],
      "text/plain": [
       "<IPython.core.display.HTML object>"
      ]
     },
     "execution_count": 25,
     "metadata": {},
     "output_type": "execute_result"
    }
   ],
   "source": [
    "from IPython.core.display import HTML\n",
    "\n",
    "HTML(\"\"\"\n",
    "<svg width=\"110\" height=\"80\" xmlns=\"http://www.w3.org/2000/svg\">\n",
    "    <rect width=\"110\" height=\"80\" fill=\"#BA0C2F\"/>\n",
    "    <rect x=\"30\" width=\"10\" height=\"80\" fill=\"#ffffff\"/>\n",
    "    <rect y=\"35\" width=\"110\" height=\"10\" fill=\"#ffffff\"/>\n",
    "    <rect x=\"34\" width=\"6\" height=\"80\" fill=\"#00205B\"/>\n",
    "    <rect y=\"37\" width=\"110\" height=\"6\" fill=\"#00205B\"/>\n",
    "</svg>\n",
    "\"\"\")\n"
   ]
  },
  {
   "cell_type": "code",
   "execution_count": 31,
   "id": "a95284b0-d3ea-4702-8a4e-5a13d02e8b2c",
   "metadata": {},
   "outputs": [],
   "source": [
    "def task_10(N):\n",
    "    if not isinstance(N, int) or N <= 0:\n",
    "        return \"Помилка. Введене значення не є додатнім цілим числом\"\n",
    "    \n",
    "    for a in range(1, int(N**0.5) + 1):\n",
    "        for b in range(a, int(N**0.5) + 1):\n",
    "            if a**2 + b**2 == N:\n",
    "                return f\"{a}^2 + {b}^2 = {N}\"\n",
    "    \n",
    "    return f\"Число {N} не можна представити квадратами цілих чисел\"\n"
   ]
  },
  {
   "cell_type": "code",
   "execution_count": 35,
   "id": "0022e391-0c38-4c0d-bfce-4bfcbf190430",
   "metadata": {},
   "outputs": [
    {
     "name": "stdout",
     "output_type": "stream",
     "text": [
      "Число 21 не можна представити квадратами цілих чисел\n"
     ]
    }
   ],
   "source": [
    "print(task_10(21))\n",
    "\n"
   ]
  },
  {
   "cell_type": "code",
   "execution_count": 37,
   "id": "abc1bb18-bbd0-467b-bb60-ad22265f70c5",
   "metadata": {},
   "outputs": [
    {
     "name": "stdout",
     "output_type": "stream",
     "text": [
      "3^2 + 6^2 = 45\n"
     ]
    }
   ],
   "source": [
    "print(task_10(45))"
   ]
  },
  {
   "cell_type": "code",
   "execution_count": null,
   "id": "ed44ac10-f6ea-4eca-97d6-ef5c213f68a8",
   "metadata": {},
   "outputs": [],
   "source": []
  },
  {
   "cell_type": "code",
   "execution_count": null,
   "id": "c1a823de-09e3-4735-bab8-856a13065588",
   "metadata": {},
   "outputs": [],
   "source": []
  }
 ],
 "metadata": {
  "kernelspec": {
   "display_name": "Python 3 (ipykernel)",
   "language": "python",
   "name": "python3"
  },
  "language_info": {
   "codemirror_mode": {
    "name": "ipython",
    "version": 3
   },
   "file_extension": ".py",
   "mimetype": "text/x-python",
   "name": "python",
   "nbconvert_exporter": "python",
   "pygments_lexer": "ipython3",
   "version": "3.12.7"
  }
 },
 "nbformat": 4,
 "nbformat_minor": 5
}
